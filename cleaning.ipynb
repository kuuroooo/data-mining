{
 "cells": [
  {
   "cell_type": "code",
   "execution_count": null,
   "metadata": {},
   "outputs": [],
   "source": [
    "import pandas as pd\n",
    "import seaborn as sns\n",
    "import matplotlib.pyplot as plt"
   ]
  },
  {
   "cell_type": "code",
   "execution_count": null,
   "metadata": {},
   "outputs": [],
   "source": [
    "df = pd.read_csv('dataset_mood_smartphone.csv')  # replace with the actual dataset path\n"
   ]
  },
  {
   "cell_type": "code",
   "execution_count": null,
   "metadata": {},
   "outputs": [],
   "source": [
    "#CLEANING DATA\n",
    "import pandas as pd\n",
    "\n",
    "# 1. Define expected ranges for each variable.\n",
    "#    Format: variable_name: (min_value, max_value)\n",
    "expected_ranges = {\n",
    "    'mood': (1, 10),\n",
    "    'circumplex.valence': (-2, 2),\n",
    "    'circumplex.arousal': (-2, 2),\n",
    "    'activity': (0, 1),\n",
    "    # If you have more variables, add them here:\n",
    "    # 'screen': (0, 1440),  # e.g., if screen usage is in minutes\n",
    "    # 'appCat.social': (0, 1440), \n",
    "    # 'call': (0, 1),       # if call is an indicator\n",
    "    # 'sms': (0, 1),\n",
    "    # etc.\n",
    "}\n",
    "\n",
    "# 2. For each variable in expected_ranges, find rows that are out of range\n",
    "outliers_list = []  # to store all out-of-range rows\n",
    "\n",
    "for var_name, (min_val, max_val) in expected_ranges.items():\n",
    "    # Filter dataset rows that match this variable\n",
    "    mask_var = (df['variable'] == var_name)\n",
    "    \n",
    "    # Among these rows, find those whose value is < min_val or > max_val\n",
    "    mask_outlier = (df['value'] < min_val) | (df['value'] > max_val)\n",
    "    \n",
    "    # Combine the two masks to find out-of-range rows for this variable\n",
    "    outliers = df[mask_var & mask_outlier]\n",
    "    \n",
    "    if not outliers.empty:\n",
    "        print(f\"Variable '{var_name}': Found {len(outliers)} out-of-range rows.\")\n",
    "        outliers_list.append(outliers)\n",
    "\n",
    "# 3. Combine all out-of-range rows (if you want a single dataframe of outliers)\n",
    "if outliers_list:\n",
    "    df_outliers = pd.concat(outliers_list, ignore_index=True)\n",
    "    print(\"\\nSummary of out-of-range rows:\")\n",
    "    print(df_outliers.head())\n",
    "else:\n",
    "    print(\"No out-of-range values found based on the defined expected ranges.\")"
   ]
  },
  {
   "cell_type": "code",
   "execution_count": null,
   "metadata": {},
   "outputs": [],
   "source": [
    "import pandas as pd\n",
    "import matplotlib.pyplot as plt\n",
    "\n",
    "# 1. Define which variables you want to visualize\n",
    "#    (Adjust this list to match the variables actually in your dataset)\n",
    "variables_of_interest = [\n",
    "    'mood',\n",
    "    'circumplex.valence',\n",
    "    'circumplex.arousal',\n",
    "    'activity',\n",
    "    'screen',\n",
    "    'call',\n",
    "    'sms',\n",
    "    'appCat.social',\n",
    "    'appCat.entertainment'\n",
    "]\n",
    "\n",
    "# 2. Loop over each variable and plot a histogram\n",
    "for var_name in variables_of_interest:\n",
    "    # Filter to rows for this variable\n",
    "    df_var = df[df['variable'] == var_name]\n",
    "\n",
    "    # Skip if empty\n",
    "    if df_var.empty:\n",
    "        print(f\"No rows found for variable '{var_name}'. Skipping...\")\n",
    "        continue\n",
    "\n",
    "    # Convert to numeric if necessary\n",
    "    values = pd.to_numeric(df_var['value'], errors='coerce').dropna()\n",
    "\n",
    "    # Plot histogram\n",
    "    plt.figure()\n",
    "    values.hist(bins=30)  # 30 bins is arbitrary; adjust as needed\n",
    "    plt.title(f\"Histogram of '{var_name}'\")\n",
    "    plt.xlabel(var_name)\n",
    "    plt.ylabel(\"Frequency\")\n",
    "    plt.show()\n",
    "\n",
    "    # (Optional) Also plot a box plot to see outliers/percentiles\n",
    "    plt.figure()\n",
    "    plt.boxplot(values, vert=False)\n",
    "    plt.title(f\"Box Plot of '{var_name}'\")\n",
    "    plt.xlabel(var_name)\n",
    "    plt.show()"
   ]
  }
 ],
 "metadata": {
  "kernelspec": {
   "display_name": "Python 3",
   "language": "python",
   "name": "python3"
  },
  "language_info": {
   "name": "python",
   "version": "3.11.5"
  }
 },
 "nbformat": 4,
 "nbformat_minor": 2
}
