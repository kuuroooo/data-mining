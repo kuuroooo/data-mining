{
 "cells": [
  {
   "cell_type": "code",
   "execution_count": 17,
   "metadata": {},
   "outputs": [
    {
     "name": "stdout",
     "output_type": "stream",
     "text": [
      "✅ Done! Features updated and saved to 'daily_mov_featured.csv'\n"
     ]
    }
   ],
   "source": [
    "import pandas as pd\n",
    "\n",
    "# Load your dataset\n",
    "df = pd.read_csv(\"daily_mov.csv\", parse_dates=[\"date\"])\n",
    "\n",
    "# Sort by user and date for proper time-series operations\n",
    "df.sort_values(by=[\"user_id\", \"date\"], inplace=True)\n",
    "\n",
    "# Extract 'day' and 'month' from 'date'\n",
    "df[\"day\"] = df[\"date\"].dt.day\n",
    "df[\"month\"] = df[\"date\"].dt.month\n",
    "\n",
    "# Yesterday's mood\n",
    "df[\"mood_yesterday\"] = df.groupby(\"user_id\")[\"mood\"].shift(1)\n",
    "\n",
    "# Average mood over last 5 days\n",
    "df[\"mood_avg_5d\"] = (\n",
    "    df.groupby(\"user_id\")[\"mood\"]\n",
    "    .rolling(window=5, min_periods=1)\n",
    "    .mean()\n",
    "    .reset_index(level=0, drop=True)\n",
    ")\n",
    "\n",
    "# Mood change from yesterday to today\n",
    "df[\"mood_change\"] = df[\"mood\"] - df[\"mood_yesterday\"]\n",
    "\n",
    "# One-hot encode the 'weekday' column\n",
    "weekday_dummies = pd.get_dummies(df[\"weekday\"], prefix=\"weekday\")\n",
    "df = pd.concat([df, weekday_dummies], axis=1)\n",
    "\n",
    "# Drop columns: id, date, total_entries\n",
    "df.drop(columns=[\"id\", \"date\", \"total_entries\"], inplace=True)\n",
    "\n",
    "# Save the modified dataset\n",
    "df.to_csv(\"daily_mov_featured.csv\", index=False)\n",
    "\n",
    "print(\"✅ Done! Features updated and saved to 'daily_mov_featured.csv'\")\n"
   ]
  },
  {
   "cell_type": "code",
   "execution_count": 18,
   "metadata": {},
   "outputs": [
    {
     "name": "stdout",
     "output_type": "stream",
     "text": [
      "⚠️ NaN detected in test predictions. Batch skipped.\n",
      "⚠️ NaN detected in test predictions. Batch skipped.\n",
      "⚠️ NaN detected in test predictions. Batch skipped.\n",
      "⚠️ NaN detected in test predictions. Batch skipped.\n",
      "✅ Final Test Loss (MSE): 0.0491\n",
      "📈 R^2 Score: -0.0241\n",
      "🎯 Mood Prediction Accuracy (rounded): 0.9925\n"
     ]
    }
   ],
   "source": [
    "# Evaluation loop\n",
    "from sklearn.metrics import mean_squared_error, r2_score, accuracy_score\n",
    "\n",
    "model.eval()\n",
    "test_loss = 0\n",
    "test_batches = 0\n",
    "with torch.no_grad():\n",
    "    all_preds = []\n",
    "    all_true = []\n",
    "    for batch in test_loader:\n",
    "        x = batch['features'].to(device)\n",
    "        user_id = batch['user_id'].to(device)\n",
    "        mood = batch['mood'].to(device).unsqueeze(1)\n",
    "\n",
    "        pred = model(x, user_id)\n",
    "\n",
    "        if torch.isnan(pred).any():\n",
    "            print(f\"⚠️ NaN detected in test predictions. Batch skipped.\")\n",
    "            continue\n",
    "\n",
    "        loss = loss_fn(pred, mood)\n",
    "        test_loss += loss.item()\n",
    "        test_batches += 1\n",
    "\n",
    "        all_preds.extend(pred.cpu().numpy())\n",
    "        all_true.extend(mood.cpu().numpy())\n",
    "\n",
    "avg_test_loss = test_loss / max(test_batches, 1)\n",
    "all_preds = np.array(all_preds).flatten()\n",
    "all_true = np.array(all_true).flatten()\n",
    "\n",
    "# Compute regression R^2 and classification accuracy (optional binning)\n",
    "r2 = r2_score(all_true, all_preds)\n",
    "\n",
    "# Discretize for rough accuracy: round mood to nearest integer 1-10\n",
    "rounded_preds = np.clip(np.round(all_preds), 1, 10)\n",
    "rounded_true = np.clip(np.round(all_true), 1, 10)\n",
    "acc = accuracy_score(rounded_true, rounded_preds)\n",
    "\n",
    "print(f\"✅ Final Test Loss (MSE): {avg_test_loss:.4f}\")\n",
    "print(f\"📈 R^2 Score: {r2:.4f}\")\n",
    "print(f\"🎯 Mood Prediction Accuracy (rounded): {acc:.4f}\")\n"
   ]
  }
 ],
 "metadata": {
  "kernelspec": {
   "display_name": "Python 3",
   "language": "python",
   "name": "python3"
  },
  "language_info": {
   "codemirror_mode": {
    "name": "ipython",
    "version": 3
   },
   "file_extension": ".py",
   "mimetype": "text/x-python",
   "name": "python",
   "nbconvert_exporter": "python",
   "pygments_lexer": "ipython3",
   "version": "3.10.12"
  }
 },
 "nbformat": 4,
 "nbformat_minor": 2
}
